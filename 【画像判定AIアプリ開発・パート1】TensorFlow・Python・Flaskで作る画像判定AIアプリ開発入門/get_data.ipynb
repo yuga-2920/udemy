{
 "cells": [
  {
   "cell_type": "code",
   "execution_count": 2,
   "metadata": {},
   "outputs": [],
   "source": [
    "from PIL import Image\n",
    "import os\n",
    "import glob\n",
    "from sklearn import model_selection\n",
    "import numpy as np\n",
    "\n",
    "classes = [\"monkey\", \"boar\", \"crow\"]\n",
    "num_classes = len(classes)\n",
    "image_size = 50\n",
    "\n",
    "X = []\n",
    "Y = []\n",
    "\n",
    "for index, classlabel in enumerate(classes):\n",
    "    photos_dir = './' + classlabel\n",
    "    files = glob.glob(photos_dir + \"/*.jpg\")\n",
    "    for i, file in enumerate(files):\n",
    "        if i >= 300:\n",
    "            break\n",
    "        image = Image.open(file)\n",
    "        image = image.convert('RGB')\n",
    "        image = image.resize((image_size, image_size))\n",
    "        data = np.asarray(image)\n",
    "        X.append(data)\n",
    "        Y.append(index)\n",
    "\n",
    "X = np.array(X)\n",
    "Y = np.array(Y)\n",
    "\n",
    "X_train, X_test, y_train, y_test = model_selection.train_test_split(\n",
    "    X, Y)\n",
    "xy = (X_train, X_test, y_train, y_test)\n",
    "np.save(\"./animal.npy\", xy)\n"
   ]
  },
  {
   "cell_type": "code",
   "execution_count": 6,
   "metadata": {},
   "outputs": [
    {
     "data": {
      "text/plain": [
       "array([[[150, 157, 150],\n",
       "        [149, 157, 149],\n",
       "        [150, 157, 150],\n",
       "        ...,\n",
       "        [172, 181, 180],\n",
       "        [171, 181, 180],\n",
       "        [171, 181, 180]],\n",
       "\n",
       "       [[152, 159, 153],\n",
       "        [152, 159, 153],\n",
       "        [153, 160, 153],\n",
       "        ...,\n",
       "        [175, 183, 184],\n",
       "        [173, 183, 184],\n",
       "        [173, 183, 183]],\n",
       "\n",
       "       [[153, 159, 155],\n",
       "        [153, 159, 155],\n",
       "        [155, 160, 156],\n",
       "        ...,\n",
       "        [175, 184, 186],\n",
       "        [175, 185, 186],\n",
       "        [174, 184, 185]],\n",
       "\n",
       "       ...,\n",
       "\n",
       "       [[ 12,  21,  32],\n",
       "        [ 16,  24,  36],\n",
       "        [ 18,  24,  37],\n",
       "        ...,\n",
       "        [234, 220, 231],\n",
       "        [219, 180, 191],\n",
       "        [186, 146, 160]],\n",
       "\n",
       "       [[ 16,  24,  35],\n",
       "        [ 16,  24,  35],\n",
       "        [ 17,  25,  37],\n",
       "        ...,\n",
       "        [231, 209, 218],\n",
       "        [233, 208, 218],\n",
       "        [215, 193, 206]],\n",
       "\n",
       "       [[ 16,  24,  37],\n",
       "        [ 17,  25,  38],\n",
       "        [ 17,  25,  38],\n",
       "        ...,\n",
       "        [229, 205, 215],\n",
       "        [235, 207, 219],\n",
       "        [227, 196, 208]]], dtype=uint8)"
      ]
     },
     "execution_count": 6,
     "metadata": {},
     "output_type": "execute_result"
    }
   ],
   "source": []
  },
  {
   "cell_type": "code",
   "execution_count": null,
   "metadata": {},
   "outputs": [],
   "source": []
  }
 ],
 "metadata": {
  "kernelspec": {
   "display_name": "Python 3",
   "language": "python",
   "name": "python3"
  },
  "language_info": {
   "codemirror_mode": {
    "name": "ipython",
    "version": 3
   },
   "file_extension": ".py",
   "mimetype": "text/x-python",
   "name": "python",
   "nbconvert_exporter": "python",
   "pygments_lexer": "ipython3",
   "version": "3.8.3"
  }
 },
 "nbformat": 4,
 "nbformat_minor": 4
}
