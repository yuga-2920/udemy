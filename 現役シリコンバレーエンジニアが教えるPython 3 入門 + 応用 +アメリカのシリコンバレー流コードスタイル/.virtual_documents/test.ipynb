def say_somethin(*args):
    for arg in args:
        print(arg)


say_somethin('Hi' , 'Mike', 'Nancy')


def menu(**kwargs):
    for k, v in kwargs.items():
        print(k, v)


menu(entree='beef', drink='coffee')


def circle_area_func(pi):
    def circle_area(radius):
        return pi * radius * radius
    return circle_area


cal1 = circle_area_func(3.14)
cal2 = circle_area_func(3.141592)

print(cal1(10))
print(cal2(10))


def print_more(func):
    def wrapper(*args, **kwargs):
        print('func:', func.__name__)
        print('args:', args)
        print('kwargs:', kwargs)
        result = func(*args, **kwargs)
        return result
    return wrapper

def print_info(func):
    def wrapper(*args, **kwargs):
        print('start')
        result = func(*args, **kwargs)
        print('end')
        return result
    return wrapper

@print_info
@print_more
def add_num(a, b):
    return a + b


r = add_num(1, 2)
print(r)


l = ['Mon', 'tue', 'Wed']
def change_words(words, func):
    for word in words:
        print(func(word))


change_words(l, lambda word: word.capitalize())


class Person(object):
    def __init__(self, name):
        self.name = name

    def say_something(self):
        print('I am {}. hello'.format(self.name))
        self.run(10)

    def run(self, num):
        print('run' * num)

    def __del__(self):
        print('good bye')


person = Person('Mike')
person.say_something()


class Car(object):
    def run(self):
        print('run')

class ToyotaCar(Car):
    pass

class TeslaCar(Car):
    def auto_run(self):
        print('auto_run')

car = Car()
car.run()

toyota_car = ToyotaCar()
toyota_car.run()

tesla_car = TeslaCar()
tesla_car.run()
tesla_car.auto_run()






